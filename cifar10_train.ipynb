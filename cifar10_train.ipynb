{
 "cells": [
  {
   "cell_type": "code",
   "execution_count": 1,
   "metadata": {},
   "outputs": [],
   "source": [
    "import numpy as np\n",
    "import torch\n",
    "import torchvision\n",
    "import torchvision.transforms as transforms\n",
    "import torch.optim as optim\n",
    "import torch.nn as nn\n",
    "from sklearn.model_selection import train_test_split\n",
    "from torch.utils.data.sampler import SubsetRandomSampler\n",
    "from torch.utils.data import DataLoader\n",
    "import os\n",
    "\n",
    "from classifier_model_cifar import Model_A,Model_B,Model_C,Model_D\n",
    "from model import CNN\n",
    "from torchsummary import summary\n",
    "import copy"
   ]
  },
  {
   "cell_type": "code",
   "execution_count": 2,
   "metadata": {},
   "outputs": [],
   "source": [
    "device = torch.device('cuda:0' if torch.cuda.is_available() else 'cpu')"
   ]
  },
  {
   "cell_type": "code",
   "execution_count": 3,
   "metadata": {},
   "outputs": [],
   "source": [
    "batch_size = 128\n",
    "total_epoch = 100"
   ]
  },
  {
   "cell_type": "code",
   "execution_count": 4,
   "metadata": {},
   "outputs": [],
   "source": [
    "transform_train = transforms.Compose([\n",
    "#     transforms.RandomCrop(32, padding=4),\n",
    "#     transforms.RandomHorizontalFlip(),\n",
    "    transforms.ToTensor(),\n",
    "])\n",
    "\n",
    "# Normalize the test set same as training set without augmentation\n",
    "transform_test = transforms.Compose([\n",
    "    transforms.ToTensor(),\n",
    "])"
   ]
  },
  {
   "cell_type": "code",
   "execution_count": 5,
   "metadata": {},
   "outputs": [],
   "source": [
    "classes = ('plane', 'car', 'bird', 'cat', 'deer', \n",
    "           'dog', 'frog', 'horse', 'ship', 'truck')"
   ]
  },
  {
   "cell_type": "code",
   "execution_count": 6,
   "metadata": {},
   "outputs": [
    {
     "name": "stdout",
     "output_type": "stream",
     "text": [
      "Files already downloaded and verified\n",
      "Files already downloaded and verified\n"
     ]
    }
   ],
   "source": [
    "trainset = torchvision.datasets.CIFAR10(\n",
    "    root='./data', train=True, download=True, transform=transform_train)\n",
    "\n",
    "train_indices, val_indices = train_test_split(np.arange(len(trainset)), test_size=0.2)\n",
    "\n",
    "train_sampler = SubsetRandomSampler(train_indices)\n",
    "valid_sampler = SubsetRandomSampler(val_indices)\n",
    "\n",
    "trainloader = DataLoader(\n",
    "    trainset,\n",
    "    batch_size=batch_size,\n",
    "    num_workers=2,\n",
    "    sampler=train_sampler\n",
    ")\n",
    "\n",
    "val_loader = DataLoader(\n",
    "    trainset,\n",
    "    batch_size=batch_size,\n",
    "    num_workers=2,\n",
    "    sampler=valid_sampler\n",
    ")\n",
    "\n",
    "testset = torchvision.datasets.CIFAR10(\n",
    "    root='./data', train=False, download=True, transform=transform_test)\n",
    "testloader = torch.utils.data.DataLoader(\n",
    "    testset, batch_size=batch_size, shuffle=False, num_workers=2)"
   ]
  },
  {
   "cell_type": "code",
   "execution_count": 7,
   "metadata": {},
   "outputs": [],
   "source": [
    "train_size = len(train_sampler)\n",
    "val_size = len(valid_sampler)"
   ]
  },
  {
   "cell_type": "code",
   "execution_count": 8,
   "metadata": {},
   "outputs": [
    {
     "name": "stdout",
     "output_type": "stream",
     "text": [
      "length trainset : 50000, testset : 10000\n"
     ]
    }
   ],
   "source": [
    "print('length trainset : {}, testset : {}'.format(len(trainset), len(testset)))"
   ]
  },
  {
   "cell_type": "markdown",
   "metadata": {},
   "source": [
    "#### Display Random Batch of 4 Training Images\n",
    "\n",
    "\n"
   ]
  },
  {
   "cell_type": "code",
   "execution_count": 9,
   "metadata": {
    "scrolled": true
   },
   "outputs": [
    {
     "data": {
      "image/png": "[encoded data removed]",
      "text/plain": [
       "<Figure size 432x288 with 1 Axes>"
      ]
     },
     "metadata": {
      "needs_background": "light"
     },
     "output_type": "display_data"
    },
    {
     "name": "stdout",
     "output_type": "stream",
     "text": [
      "       cat       ship       ship\n"
     ]
    }
   ],
   "source": [
    "import matplotlib.pyplot as plt\n",
    "import numpy as np\n",
    "\n",
    "# functions to show an image\n",
    "\n",
    "def imshow(img):\n",
    "    #img = img / 2 + 0.5     # unnormalize\n",
    "    npimg = img.numpy()\n",
    "    plt.imshow(np.transpose(npimg, (1, 2, 0)))\n",
    "    plt.show()\n",
    "\n",
    "\n",
    "# get some random training images\n",
    "dataiter = iter(testloader)\n",
    "images, labels = dataiter.next()\n",
    "\n",
    "# show images\n",
    "imshow(torchvision.utils.make_grid(images[:3]))\n",
    "# print labels\n",
    "print(' '.join('%10s' % classes[labels[j]] for j in range(3)))"
   ]
  },
  {
   "cell_type": "code",
   "execution_count": 31,
   "metadata": {},
   "outputs": [],
   "source": [
    "# Send the model to GPU\n",
    "model = Model_D()"
   ]
  },
  {
   "cell_type": "code",
   "execution_count": 32,
   "metadata": {},
   "outputs": [],
   "source": [
    "criterion = nn.CrossEntropyLoss()\n",
    "# optimizer = optim.SGD(model.parameters(), lr=0.001, momentum=0.9)\n",
    "optimizer = optim.Adam(model.parameters(), lr=1e-3)"
   ]
  },
  {
   "cell_type": "code",
   "execution_count": 33,
   "metadata": {},
   "outputs": [],
   "source": [
    "device = torch.device(\"cuda:0\" if torch.cuda.is_available() else \"cpu\")"
   ]
  },
  {
   "cell_type": "code",
   "execution_count": 34,
   "metadata": {},
   "outputs": [
    {
     "name": "stdout",
     "output_type": "stream",
     "text": [
      "----------------------------------------------------------------\n",
      "        Layer (type)               Output Shape         Param #\n",
      "================================================================\n",
      "            Linear-1                  [-1, 200]         614,600\n",
      "              ReLU-2                  [-1, 200]               0\n",
      "           Dropout-3                  [-1, 200]               0\n",
      "            Linear-4                  [-1, 200]          40,200\n",
      "              ReLU-5                  [-1, 200]               0\n",
      "            Linear-6                   [-1, 10]           2,010\n",
      "           Softmax-7                   [-1, 10]               0\n",
      "================================================================\n",
      "Total params: 656,810\n",
      "Trainable params: 656,810\n",
      "Non-trainable params: 0\n",
      "----------------------------------------------------------------\n",
      "Input size (MB): 0.01\n",
      "Forward/backward pass size (MB): 0.01\n",
      "Params size (MB): 2.51\n",
      "Estimated Total Size (MB): 2.53\n",
      "----------------------------------------------------------------\n"
     ]
    }
   ],
   "source": [
    "summary(model, input_size = (3,32,32), device = 'cpu')"
   ]
  },
  {
   "cell_type": "code",
   "execution_count": 35,
   "metadata": {},
   "outputs": [],
   "source": [
    "model = model.to(device)"
   ]
  },
  {
   "cell_type": "code",
   "execution_count": 36,
   "metadata": {},
   "outputs": [],
   "source": [
    "model_folder = os.path.abspath('./checkpoints')\n",
    "if not os.path.exists(model_folder):\n",
    "    os.mkdir(model_folder)\n",
    "model_path = os.path.join(model_folder, 'cifar10_Model_A.pth')"
   ]
  },
  {
   "cell_type": "markdown",
   "metadata": {},
   "source": [
    "### training"
   ]
  },
  {
   "cell_type": "code",
   "execution_count": 37,
   "metadata": {
    "scrolled": true
   },
   "outputs": [
    {
     "name": "stdout",
     "output_type": "stream",
     "text": [
      "train Loss: 0.0173 Acc: 0.2346\n",
      "Finished epoch 1, starting evaluation\n",
      "Validation Loss: 0.0171 Acc: 0.2825\n",
      "saving best model val_acc : 0.2825\n",
      "train Loss: 0.0169 Acc: 0.2966\n",
      "Finished epoch 2, starting evaluation\n",
      "Validation Loss: 0.0168 Acc: 0.3341\n",
      "saving best model val_acc : 0.3341\n",
      "train Loss: 0.0168 Acc: 0.3089\n",
      "Finished epoch 3, starting evaluation\n",
      "Validation Loss: 0.0166 Acc: 0.3510\n",
      "saving best model val_acc : 0.3510\n",
      "train Loss: 0.0167 Acc: 0.3105\n",
      "Finished epoch 4, starting evaluation\n",
      "Validation Loss: 0.0167 Acc: 0.3400\n",
      "train Loss: 0.0167 Acc: 0.3181\n",
      "Finished epoch 5, starting evaluation\n",
      "Validation Loss: 0.0167 Acc: 0.3336\n",
      "train Loss: 0.0166 Acc: 0.3258\n",
      "Finished epoch 6, starting evaluation\n",
      "Validation Loss: 0.0166 Acc: 0.3478\n",
      "train Loss: 0.0166 Acc: 0.3258\n",
      "Finished epoch 7, starting evaluation\n",
      "Validation Loss: 0.0166 Acc: 0.3517\n",
      "saving best model val_acc : 0.3517\n",
      "train Loss: 0.0166 Acc: 0.3280\n",
      "Finished epoch 8, starting evaluation\n",
      "Validation Loss: 0.0166 Acc: 0.3557\n",
      "saving best model val_acc : 0.3557\n",
      "train Loss: 0.0166 Acc: 0.3269\n",
      "Finished epoch 9, starting evaluation\n",
      "Validation Loss: 0.0166 Acc: 0.3516\n",
      "train Loss: 0.0166 Acc: 0.3363\n",
      "Finished epoch 10, starting evaluation\n",
      "Validation Loss: 0.0165 Acc: 0.3635\n",
      "saving best model val_acc : 0.3635\n",
      "train Loss: 0.0165 Acc: 0.3391\n",
      "Finished epoch 11, starting evaluation\n",
      "Validation Loss: 0.0165 Acc: 0.3614\n",
      "train Loss: 0.0166 Acc: 0.3380\n",
      "Finished epoch 12, starting evaluation\n",
      "Validation Loss: 0.0165 Acc: 0.3678\n",
      "saving best model val_acc : 0.3678\n",
      "train Loss: 0.0165 Acc: 0.3414\n",
      "Finished epoch 13, starting evaluation\n",
      "Validation Loss: 0.0166 Acc: 0.3571\n",
      "train Loss: 0.0165 Acc: 0.3466\n",
      "Finished epoch 14, starting evaluation\n",
      "Validation Loss: 0.0165 Acc: 0.3683\n",
      "saving best model val_acc : 0.3683\n",
      "train Loss: 0.0165 Acc: 0.3483\n",
      "Finished epoch 15, starting evaluation\n",
      "Validation Loss: 0.0166 Acc: 0.3504\n",
      "train Loss: 0.0165 Acc: 0.3463\n",
      "Finished epoch 16, starting evaluation\n",
      "Validation Loss: 0.0165 Acc: 0.3719\n",
      "saving best model val_acc : 0.3719\n",
      "train Loss: 0.0165 Acc: 0.3494\n",
      "Finished epoch 17, starting evaluation\n",
      "Validation Loss: 0.0164 Acc: 0.3798\n",
      "saving best model val_acc : 0.3798\n",
      "train Loss: 0.0165 Acc: 0.3504\n",
      "Finished epoch 18, starting evaluation\n",
      "Validation Loss: 0.0164 Acc: 0.3740\n",
      "train Loss: 0.0165 Acc: 0.3505\n",
      "Finished epoch 19, starting evaluation\n",
      "Validation Loss: 0.0164 Acc: 0.3831\n",
      "saving best model val_acc : 0.3831\n",
      "train Loss: 0.0165 Acc: 0.3510\n",
      "Finished epoch 20, starting evaluation\n",
      "Validation Loss: 0.0164 Acc: 0.3811\n",
      "train Loss: 0.0164 Acc: 0.3564\n",
      "Finished epoch 21, starting evaluation\n",
      "Validation Loss: 0.0164 Acc: 0.3724\n",
      "train Loss: 0.0164 Acc: 0.3553\n",
      "Finished epoch 22, starting evaluation\n",
      "Validation Loss: 0.0164 Acc: 0.3796\n",
      "train Loss: 0.0164 Acc: 0.3594\n",
      "Finished epoch 23, starting evaluation\n",
      "Validation Loss: 0.0164 Acc: 0.3783\n",
      "train Loss: 0.0164 Acc: 0.3577\n",
      "Finished epoch 24, starting evaluation\n",
      "Validation Loss: 0.0165 Acc: 0.3696\n",
      "train Loss: 0.0164 Acc: 0.3575\n",
      "Finished epoch 25, starting evaluation\n",
      "Validation Loss: 0.0164 Acc: 0.3888\n",
      "saving best model val_acc : 0.3888\n",
      "train Loss: 0.0164 Acc: 0.3645\n",
      "Finished epoch 26, starting evaluation\n",
      "Validation Loss: 0.0164 Acc: 0.3779\n",
      "train Loss: 0.0164 Acc: 0.3586\n",
      "Finished epoch 27, starting evaluation\n",
      "Validation Loss: 0.0164 Acc: 0.3697\n",
      "train Loss: 0.0164 Acc: 0.3638\n",
      "Finished epoch 28, starting evaluation\n",
      "Validation Loss: 0.0164 Acc: 0.3855\n",
      "train Loss: 0.0164 Acc: 0.3642\n",
      "Finished epoch 29, starting evaluation\n",
      "Validation Loss: 0.0164 Acc: 0.3799\n",
      "train Loss: 0.0163 Acc: 0.3697\n",
      "Finished epoch 30, starting evaluation\n",
      "Validation Loss: 0.0164 Acc: 0.3762\n",
      "train Loss: 0.0163 Acc: 0.3683\n",
      "Finished epoch 31, starting evaluation\n",
      "Validation Loss: 0.0164 Acc: 0.3784\n",
      "train Loss: 0.0163 Acc: 0.3712\n",
      "Finished epoch 32, starting evaluation\n",
      "Validation Loss: 0.0163 Acc: 0.3864\n",
      "train Loss: 0.0163 Acc: 0.3659\n",
      "Finished epoch 33, starting evaluation\n",
      "Validation Loss: 0.0164 Acc: 0.3747\n",
      "train Loss: 0.0163 Acc: 0.3675\n",
      "Finished epoch 34, starting evaluation\n",
      "Validation Loss: 0.0163 Acc: 0.3888\n",
      "train Loss: 0.0163 Acc: 0.3707\n",
      "Finished epoch 35, starting evaluation\n",
      "Validation Loss: 0.0163 Acc: 0.3867\n",
      "train Loss: 0.0163 Acc: 0.3751\n",
      "Finished epoch 36, starting evaluation\n",
      "Validation Loss: 0.0163 Acc: 0.3879\n",
      "train Loss: 0.0163 Acc: 0.3724\n",
      "Finished epoch 37, starting evaluation\n",
      "Validation Loss: 0.0164 Acc: 0.3855\n",
      "train Loss: 0.0163 Acc: 0.3707\n",
      "Finished epoch 38, starting evaluation\n",
      "Validation Loss: 0.0163 Acc: 0.3896\n",
      "saving best model val_acc : 0.3896\n",
      "train Loss: 0.0163 Acc: 0.3780\n",
      "Finished epoch 39, starting evaluation\n",
      "Validation Loss: 0.0163 Acc: 0.3883\n",
      "train Loss: 0.0163 Acc: 0.3764\n",
      "Finished epoch 40, starting evaluation\n",
      "Validation Loss: 0.0163 Acc: 0.3861\n",
      "train Loss: 0.0163 Acc: 0.3693\n",
      "Finished epoch 41, starting evaluation\n",
      "Validation Loss: 0.0163 Acc: 0.3950\n",
      "saving best model val_acc : 0.3950\n",
      "train Loss: 0.0163 Acc: 0.3708\n",
      "Finished epoch 42, starting evaluation\n",
      "Validation Loss: 0.0163 Acc: 0.3918\n",
      "train Loss: 0.0163 Acc: 0.3761\n",
      "Finished epoch 43, starting evaluation\n",
      "Validation Loss: 0.0162 Acc: 0.4004\n",
      "saving best model val_acc : 0.4004\n",
      "train Loss: 0.0163 Acc: 0.3734\n",
      "Finished epoch 44, starting evaluation\n",
      "Validation Loss: 0.0163 Acc: 0.3850\n",
      "train Loss: 0.0163 Acc: 0.3776\n",
      "Finished epoch 45, starting evaluation\n",
      "Validation Loss: 0.0162 Acc: 0.3988\n",
      "train Loss: 0.0163 Acc: 0.3777\n",
      "Finished epoch 46, starting evaluation\n",
      "Validation Loss: 0.0163 Acc: 0.3928\n",
      "train Loss: 0.0163 Acc: 0.3777\n",
      "Finished epoch 47, starting evaluation\n",
      "Validation Loss: 0.0163 Acc: 0.3888\n",
      "train Loss: 0.0163 Acc: 0.3759\n",
      "Finished epoch 48, starting evaluation\n",
      "Validation Loss: 0.0164 Acc: 0.3855\n",
      "train Loss: 0.0163 Acc: 0.3745\n",
      "Finished epoch 49, starting evaluation\n",
      "Validation Loss: 0.0163 Acc: 0.3943\n",
      "train Loss: 0.0163 Acc: 0.3759\n",
      "Finished epoch 50, starting evaluation\n",
      "Validation Loss: 0.0164 Acc: 0.3816\n",
      "train Loss: 0.0163 Acc: 0.3747\n",
      "Finished epoch 51, starting evaluation\n",
      "Validation Loss: 0.0163 Acc: 0.3941\n",
      "train Loss: 0.0162 Acc: 0.3800\n",
      "Finished epoch 52, starting evaluation\n",
      "Validation Loss: 0.0163 Acc: 0.3940\n",
      "train Loss: 0.0162 Acc: 0.3816\n",
      "Finished epoch 53, starting evaluation\n",
      "Validation Loss: 0.0162 Acc: 0.4003\n",
      "train Loss: 0.0162 Acc: 0.3793\n",
      "Finished epoch 54, starting evaluation\n",
      "Validation Loss: 0.0164 Acc: 0.3724\n",
      "train Loss: 0.0162 Acc: 0.3832\n",
      "Finished epoch 55, starting evaluation\n",
      "Validation Loss: 0.0162 Acc: 0.4089\n",
      "saving best model val_acc : 0.4089\n",
      "train Loss: 0.0162 Acc: 0.3817\n",
      "Finished epoch 56, starting evaluation\n",
      "Validation Loss: 0.0162 Acc: 0.4025\n",
      "train Loss: 0.0162 Acc: 0.3813\n",
      "Finished epoch 57, starting evaluation\n",
      "Validation Loss: 0.0163 Acc: 0.3872\n",
      "train Loss: 0.0162 Acc: 0.3835\n",
      "Finished epoch 58, starting evaluation\n",
      "Validation Loss: 0.0162 Acc: 0.4065\n",
      "train Loss: 0.0162 Acc: 0.3856\n",
      "Finished epoch 59, starting evaluation\n",
      "Validation Loss: 0.0163 Acc: 0.3919\n",
      "train Loss: 0.0162 Acc: 0.3845\n",
      "Finished epoch 60, starting evaluation\n",
      "Validation Loss: 0.0164 Acc: 0.3819\n",
      "train Loss: 0.0162 Acc: 0.3855\n",
      "Finished epoch 61, starting evaluation\n",
      "Validation Loss: 0.0163 Acc: 0.3951\n",
      "train Loss: 0.0162 Acc: 0.3871\n",
      "Finished epoch 62, starting evaluation\n",
      "Validation Loss: 0.0162 Acc: 0.4019\n",
      "train Loss: 0.0162 Acc: 0.3867\n",
      "Finished epoch 63, starting evaluation\n",
      "Validation Loss: 0.0162 Acc: 0.4093\n",
      "saving best model val_acc : 0.4093\n",
      "train Loss: 0.0162 Acc: 0.3893\n",
      "Finished epoch 64, starting evaluation\n",
      "Validation Loss: 0.0162 Acc: 0.4082\n",
      "train Loss: 0.0162 Acc: 0.3876\n",
      "Finished epoch 65, starting evaluation\n",
      "Validation Loss: 0.0162 Acc: 0.4025\n",
      "train Loss: 0.0162 Acc: 0.3896\n",
      "Finished epoch 66, starting evaluation\n",
      "Validation Loss: 0.0162 Acc: 0.4074\n",
      "train Loss: 0.0162 Acc: 0.3851\n",
      "Finished epoch 67, starting evaluation\n",
      "Validation Loss: 0.0163 Acc: 0.3858\n",
      "train Loss: 0.0162 Acc: 0.3860\n",
      "Finished epoch 68, starting evaluation\n",
      "Validation Loss: 0.0162 Acc: 0.4006\n",
      "train Loss: 0.0162 Acc: 0.3898\n",
      "Finished epoch 69, starting evaluation\n",
      "Validation Loss: 0.0161 Acc: 0.4163\n",
      "saving best model val_acc : 0.4163\n",
      "train Loss: 0.0162 Acc: 0.3886\n",
      "Finished epoch 70, starting evaluation\n",
      "Validation Loss: 0.0162 Acc: 0.3985\n",
      "train Loss: 0.0162 Acc: 0.3911\n",
      "Finished epoch 71, starting evaluation\n",
      "Validation Loss: 0.0162 Acc: 0.4010\n",
      "train Loss: 0.0161 Acc: 0.3930\n",
      "Finished epoch 72, starting evaluation\n"
     ]
    },
    {
     "name": "stdout",
     "output_type": "stream",
     "text": [
      "Validation Loss: 0.0162 Acc: 0.4055\n",
      "train Loss: 0.0162 Acc: 0.3881\n",
      "Finished epoch 73, starting evaluation\n",
      "Validation Loss: 0.0162 Acc: 0.4073\n",
      "train Loss: 0.0161 Acc: 0.3927\n",
      "Finished epoch 74, starting evaluation\n",
      "Validation Loss: 0.0161 Acc: 0.4133\n",
      "train Loss: 0.0162 Acc: 0.3908\n",
      "Finished epoch 75, starting evaluation\n",
      "Validation Loss: 0.0162 Acc: 0.4043\n",
      "train Loss: 0.0162 Acc: 0.3884\n",
      "Finished epoch 76, starting evaluation\n",
      "Validation Loss: 0.0163 Acc: 0.3977\n",
      "train Loss: 0.0161 Acc: 0.3949\n",
      "Finished epoch 77, starting evaluation\n",
      "Validation Loss: 0.0162 Acc: 0.4089\n",
      "train Loss: 0.0162 Acc: 0.3890\n",
      "Finished epoch 78, starting evaluation\n",
      "Validation Loss: 0.0162 Acc: 0.4009\n",
      "train Loss: 0.0162 Acc: 0.3894\n",
      "Finished epoch 79, starting evaluation\n",
      "Validation Loss: 0.0162 Acc: 0.4005\n",
      "train Loss: 0.0162 Acc: 0.3878\n",
      "Finished epoch 80, starting evaluation\n",
      "Validation Loss: 0.0163 Acc: 0.3926\n",
      "train Loss: 0.0162 Acc: 0.3905\n",
      "Finished epoch 81, starting evaluation\n",
      "Validation Loss: 0.0162 Acc: 0.4050\n",
      "train Loss: 0.0162 Acc: 0.3873\n",
      "Finished epoch 82, starting evaluation\n",
      "Validation Loss: 0.0162 Acc: 0.4022\n",
      "train Loss: 0.0161 Acc: 0.3936\n",
      "Finished epoch 83, starting evaluation\n",
      "Validation Loss: 0.0161 Acc: 0.4149\n",
      "train Loss: 0.0162 Acc: 0.3913\n",
      "Finished epoch 84, starting evaluation\n",
      "Validation Loss: 0.0162 Acc: 0.4130\n",
      "train Loss: 0.0162 Acc: 0.3901\n",
      "Finished epoch 85, starting evaluation\n",
      "Validation Loss: 0.0161 Acc: 0.4139\n",
      "train Loss: 0.0162 Acc: 0.3904\n",
      "Finished epoch 86, starting evaluation\n",
      "Validation Loss: 0.0162 Acc: 0.4015\n",
      "train Loss: 0.0162 Acc: 0.3921\n",
      "Finished epoch 87, starting evaluation\n",
      "Validation Loss: 0.0162 Acc: 0.4064\n",
      "train Loss: 0.0161 Acc: 0.3949\n",
      "Finished epoch 88, starting evaluation\n",
      "Validation Loss: 0.0161 Acc: 0.4096\n",
      "train Loss: 0.0161 Acc: 0.3955\n",
      "Finished epoch 89, starting evaluation\n",
      "Validation Loss: 0.0162 Acc: 0.4062\n",
      "train Loss: 0.0161 Acc: 0.3936\n",
      "Finished epoch 90, starting evaluation\n",
      "Validation Loss: 0.0162 Acc: 0.4027\n",
      "train Loss: 0.0162 Acc: 0.3914\n",
      "Finished epoch 91, starting evaluation\n",
      "Validation Loss: 0.0161 Acc: 0.4115\n",
      "train Loss: 0.0161 Acc: 0.3931\n",
      "Finished epoch 92, starting evaluation\n",
      "Validation Loss: 0.0163 Acc: 0.3947\n",
      "train Loss: 0.0162 Acc: 0.3856\n",
      "Finished epoch 93, starting evaluation\n",
      "Validation Loss: 0.0162 Acc: 0.4077\n",
      "train Loss: 0.0162 Acc: 0.3922\n",
      "Finished epoch 94, starting evaluation\n",
      "Validation Loss: 0.0162 Acc: 0.4055\n",
      "train Loss: 0.0162 Acc: 0.3910\n",
      "Finished epoch 95, starting evaluation\n",
      "Validation Loss: 0.0162 Acc: 0.4078\n",
      "train Loss: 0.0161 Acc: 0.3951\n",
      "Finished epoch 96, starting evaluation\n",
      "Validation Loss: 0.0162 Acc: 0.3999\n",
      "train Loss: 0.0161 Acc: 0.3949\n",
      "Finished epoch 97, starting evaluation\n",
      "Validation Loss: 0.0161 Acc: 0.4092\n",
      "train Loss: 0.0161 Acc: 0.3949\n",
      "Finished epoch 98, starting evaluation\n",
      "Validation Loss: 0.0162 Acc: 0.4027\n",
      "train Loss: 0.0161 Acc: 0.3947\n",
      "Finished epoch 99, starting evaluation\n",
      "Validation Loss: 0.0162 Acc: 0.4097\n",
      "train Loss: 0.0162 Acc: 0.3904\n",
      "Finished epoch 100, starting evaluation\n",
      "Validation Loss: 0.0161 Acc: 0.4183\n",
      "saving best model val_acc : 0.4183\n",
      "==> Finished Training ...\n"
     ]
    }
   ],
   "source": [
    "model.train()  # Set model to training mode\n",
    "\n",
    "train_loss = []\n",
    "train_acc = []\n",
    "val_loss = []\n",
    "val_acc = []\n",
    "\n",
    "best_acc = 0.0\n",
    "\n",
    "for epoch in range(total_epoch):\n",
    "\n",
    "    model.train()  # Set model to training mode\n",
    "    \n",
    "    running_loss = 0.0\n",
    "    running_corrects = 0.0\n",
    "    epoch_size = 0.0\n",
    "    \n",
    "    for batch_idx, (inputs, labels) in enumerate(trainloader):\n",
    "        \n",
    "        inputs = inputs.to(device)\n",
    "        labels = labels.to(device)\n",
    "\n",
    "        # zero the parameter gradients\n",
    "        optimizer.zero_grad()\n",
    "\n",
    "        # forward + backward + optimize\n",
    "        outputs = model(inputs)\n",
    "        loss = criterion(outputs, labels)\n",
    "        loss.backward()\n",
    "        \n",
    "        _, preds = torch.max(outputs, 1)\n",
    "\n",
    "        optimizer.step()\n",
    "\n",
    "        # print statistics\n",
    "        # statistics\n",
    "        running_loss += loss.item()\n",
    "        running_corrects += torch.sum(preds == labels.data)\n",
    "        \n",
    "        epoch_size += inputs.size(0)\n",
    "        \n",
    "    # Normalizing the loss by the total number of train batches\n",
    "    \n",
    "    running_loss /= epoch_size\n",
    "    running_corrects =  running_corrects.double() / epoch_size\n",
    "    \n",
    "    train_loss.append(running_loss)\n",
    "    train_acc.append(running_corrects)\n",
    "    \n",
    "    print('train Loss: {:.4f} Acc: {:.4f}'.format(running_loss, running_corrects))\n",
    "    \n",
    "    # evalute\n",
    "    print('Finished epoch {}, starting evaluation'.format(epoch+1))\n",
    "\n",
    "    model.eval()   # Set model to evaluate mode\n",
    "    \n",
    "    running_loss = 0.0\n",
    "    running_corrects = 0.0\n",
    "    epoch_size = 0.0\n",
    "    \n",
    "    with torch.no_grad():\n",
    "        for batch_idx, (inputs, labels) in enumerate(val_loader):\n",
    "            \n",
    "            inputs = inputs.to(device)\n",
    "            labels = labels.to(device)\n",
    "            \n",
    "            outputs = model(inputs)\n",
    "            loss = criterion(outputs, labels)\n",
    "\n",
    "            _, preds = torch.max(outputs, 1)\n",
    "\n",
    "            # statistics\n",
    "            running_loss += loss.item()\n",
    "            running_corrects += torch.sum(preds == labels.data)\n",
    "            \n",
    "            epoch_size += inputs.size(0)\n",
    "    \n",
    "    running_loss /= epoch_size\n",
    "    running_corrects =  running_corrects.double() / epoch_size\n",
    "    \n",
    "    print('Validation Loss: {:.4f} Acc: {:.4f}'.format(running_loss, running_corrects))\n",
    "    \n",
    "    val_loss.append(running_loss)\n",
    "    val_acc.append(running_corrects)\n",
    "    \n",
    "    # deep copy the model\n",
    "    if running_corrects > best_acc:\n",
    "        print(\"saving best model val_acc : {:.4f}\".format(running_corrects))\n",
    "        best_acc = running_corrects\n",
    "        \n",
    "        model_copy = copy.deepcopy(model)\n",
    "        model_copy = model_copy.cpu()\n",
    "        \n",
    "        model_state_dict = model_copy.state_dict()\n",
    "        torch.save(model_state_dict, model_path)\n",
    "\n",
    "        del model_copy\n",
    "\n",
    "print('==> Finished Training ...')"
   ]
  },
  {
   "cell_type": "markdown",
   "metadata": {},
   "source": [
    "### loss"
   ]
  },
  {
   "cell_type": "code",
   "execution_count": 18,
   "metadata": {},
   "outputs": [
    {
     "name": "stdout",
     "output_type": "stream",
     "text": [
      "[0.01612786285877228, 0.01584840703010559, 0.015620335042476653, 0.015506132030487061, 0.0153063791513443, 0.015164103400707245, 0.015277315735816956, 0.015062624645233154, 0.01495875676870346, 0.014922547101974487, 0.014925753319263458, 0.014847079288959503, 0.014835211312770843, 0.014668455922603607, 0.01459303867816925, 0.014586022782325745, 0.014602713286876678, 0.014546857941150666, 0.014526236712932586, 0.014455768811702728, 0.01445046147108078, 0.014419679164886474, 0.014432486855983735, 0.014327947020530701, 0.014309637200832366, 0.014316276490688324, 0.014357383716106415, 0.014293607056140899, 0.014263372921943665, 0.014251754093170166, 0.014275675106048585, 0.014273561477661133, 0.014219607162475585, 0.014224200975894928, 0.014219300282001496, 0.014156014680862427, 0.014170466673374175, 0.014164406716823577, 0.014118044364452362, 0.014168409538269044, 0.014099330472946167, 0.014167679154872895, 0.014073473381996155, 0.01405773993730545, 0.014086351323127747, 0.01418586562871933, 0.014183510422706604, 0.014060787045955658, 0.014098292982578278, 0.014138044047355651, 0.014137203586101531, 0.014123539853096008, 0.01406008768081665, 0.014091956651210784, 0.014055553603172302, 0.01408834365606308, 0.014074549937248229, 0.014050137150287629, 0.014085401737689972, 0.014060051298141479, 0.014029100275039673, 0.014029847264289855, 0.014039743542671203, 0.014036951088905335, 0.014039550590515136, 0.01401846524477005, 0.014044663465023042, 0.014023983013629913, 0.01401087530851364, 0.014049091374874116, 0.01402448217868805, 0.014029558539390564, 0.014077215099334716, 0.014023707413673401, 0.013987933301925659, 0.014011483001708984, 0.014042876982688903, 0.014053349006175995, 0.014067608594894409, 0.014031503033638001, 0.014028608918190003, 0.013993128526210786, 0.014013738846778869, 0.01400619032382965, 0.014044550549983978, 0.013999752128124238, 0.014011627876758576, 0.014016152596473694, 0.013968042123317719, 0.014008949518203735, 0.014015269362926483, 0.014025396168231964, 0.013992905461788177, 0.014024688804149628, 0.014003300034999847, 0.014075809812545777, 0.014013998067378998, 0.014001747930049897, 0.013954419720172882, 0.014003530836105347]\n"
     ]
    },
    {
     "data": {
      "image/png": "[encoded data removed]",
      "text/plain": [
       "<Figure size 432x288 with 1 Axes>"
      ]
     },
     "metadata": {
      "needs_background": "light"
     },
     "output_type": "display_data"
    }
   ],
   "source": [
    "hist = [h for h in val_loss]\n",
    "hist2 = [h for h in train_loss]\n",
    "print(hist)\n",
    "plt.title(\"train vs Validation loss\")\n",
    "plt.xlabel(\"Training Epochs\")\n",
    "plt.ylabel(\"Accuracy\")\n",
    "plt.plot(range(1,len(val_loss)+1),hist,label=\"Validation\")\n",
    "plt.plot(range(1,len(train_loss)+1),hist2,label=\"Train\")\n",
    "plt.ylim((0,0.08))\n",
    "plt.xticks(np.arange(1, len(train_loss)+1, 2))\n",
    "plt.legend()\n",
    "plt.show()"
   ]
  },
  {
   "cell_type": "markdown",
   "metadata": {},
   "source": [
    "### accuracy "
   ]
  },
  {
   "cell_type": "code",
   "execution_count": 19,
   "metadata": {},
   "outputs": [
    {
     "data": {
      "image/png": "[encoded data removed]",
      "text/plain": [
       "<Figure size 432x288 with 1 Axes>"
      ]
     },
     "metadata": {
      "needs_background": "light"
     },
     "output_type": "display_data"
    }
   ],
   "source": [
    "hist = [h.cpu() for h in val_acc]\n",
    "hist2 = [h.cpu() for h in train_acc]\n",
    "\n",
    "plt.title(\"train vs Validation accuracy\")\n",
    "plt.xlabel(\"Training Epochs\")\n",
    "plt.ylabel(\"Accuracy\")\n",
    "plt.plot(range(1,len(val_acc)+1),hist,label=\"Validation\")\n",
    "plt.plot(range(1,len(train_acc)+1),hist2,label=\"Train\")\n",
    "plt.ylim((0,1.0))\n",
    "plt.xticks(np.arange(1, len(train_acc)+1, 2))\n",
    "plt.legend()\n",
    "plt.show()"
   ]
  },
  {
   "cell_type": "code",
   "execution_count": null,
   "metadata": {},
   "outputs": [],
   "source": []
  }
 ],
 "metadata": {
  "kernelspec": {
   "display_name": "Python 3 (ipykernel)",
   "language": "python",
   "name": "python3"
  },
  "language_info": {
   "codemirror_mode": {
    "name": "ipython",
    "version": 3
   },
   "file_extension": ".py",
   "mimetype": "text/x-python",
   "name": "python",
   "nbconvert_exporter": "python",
   "pygments_lexer": "ipython3",
   "version": "3.8.12"
  }
 },
 "nbformat": 4,
 "nbformat_minor": 2
}
