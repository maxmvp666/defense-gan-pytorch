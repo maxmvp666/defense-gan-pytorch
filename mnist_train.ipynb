{
 "cells": [
  {
   "cell_type": "code",
   "execution_count": 1,
   "id": "43535457",
   "metadata": {},
   "outputs": [],
   "source": [
    "import torch\n",
    "import torch.nn as nn\n",
    "import matplotlib.pyplot as plt\n",
    "from torch.utils.data import DataLoader\n",
    "from torchvision import datasets, transforms\n",
    "# from model_mnist import CNN\n",
    "from classifier_model import Model_A,Model_B,Model_C,Model_D,Model_E,Model_F\n",
    "import torchvision\n",
    "import numpy as np\n",
    "\n",
    "import torch.optim as optim\n",
    "\n",
    "from sklearn.model_selection import train_test_split\n",
    "from torch.utils.data.sampler import SubsetRandomSampler\n",
    "import os\n",
    "\n",
    "from torchsummary import summary\n",
    "import copy"
   ]
  },
  {
   "cell_type": "code",
   "execution_count": 2,
   "id": "b09e4b5f",
   "metadata": {},
   "outputs": [],
   "source": [
    "device = torch.device('cuda:0' if torch.cuda.is_available() else 'cpu')"
   ]
  },
  {
   "cell_type": "code",
   "execution_count": 5,
   "id": "80daac96",
   "metadata": {},
   "outputs": [],
   "source": [
    "total_epoch = 100\n",
    "batch_size = 128\n",
    "# LR = 1E-3"
   ]
  },
  {
   "cell_type": "code",
   "execution_count": 6,
   "id": "8e84114d",
   "metadata": {},
   "outputs": [],
   "source": [
    "transform_train = transforms.Compose([\n",
    "#     transforms.RandomCrop(32, padding=4),\n",
    "#     transforms.RandomHorizontalFlip(),\n",
    "#     transforms.Pad(padding=2),\n",
    "    transforms.ToTensor(),\n",
    "])\n",
    "\n",
    "transform_test = transforms.Compose([\n",
    "    transforms.ToTensor(),\n",
    "])"
   ]
  },
  {
   "cell_type": "markdown",
   "id": "cbc5abb9",
   "metadata": {},
   "source": [
    "### MNIST"
   ]
  },
  {
   "cell_type": "code",
   "execution_count": 5,
   "id": "18f44c5c",
   "metadata": {},
   "outputs": [],
   "source": [
    "trainset = datasets.MNIST(\n",
    "    root='./data', train=True, download=True, transform=transform_train)\n",
    "\n",
    "train_indices, val_indices = train_test_split(np.arange(len(trainset)), test_size=0.2)\n",
    "\n",
    "train_sampler = SubsetRandomSampler(train_indices)\n",
    "valid_sampler = SubsetRandomSampler(val_indices)\n",
    "\n",
    "trainloader = DataLoader(\n",
    "    trainset,\n",
    "    batch_size=batch_size,\n",
    "    num_workers=2,\n",
    "    sampler=train_sampler\n",
    ")\n",
    "\n",
    "val_loader = DataLoader(\n",
    "    trainset,\n",
    "    batch_size=batch_size,\n",
    "    num_workers=2,\n",
    "    sampler=valid_sampler\n",
    ")\n",
    "\n",
    "testset = datasets.MNIST(\n",
    "    root='./data', train=False, download=True, transform=transform_test)\n",
    "testloader = torch.utils.data.DataLoader(\n",
    "    testset, batch_size=batch_size, shuffle=False, num_workers=2)"
   ]
  },
  {
   "cell_type": "code",
   "execution_count": null,
   "id": "6f2a0d50",
   "metadata": {},
   "outputs": [],
   "source": [
    "train_size = len(train_sampler)\n",
    "val_size = len(valid_sampler)"
   ]
  },
  {
   "cell_type": "code",
   "execution_count": null,
   "id": "6212bf72",
   "metadata": {},
   "outputs": [],
   "source": [
    "print('length trainset : {}, testset : {}'.format(len(trainset), len(testset)))"
   ]
  },
  {
   "cell_type": "code",
   "execution_count": null,
   "id": "e033727e",
   "metadata": {},
   "outputs": [],
   "source": [
    "classes = ('zero', 'one', 'two', 'three', 'four', \n",
    "           'five', 'six', 'seven', 'eight', 'nine')"
   ]
  },
  {
   "cell_type": "markdown",
   "id": "2a02d6ba",
   "metadata": {},
   "source": [
    "### F-MNIST"
   ]
  },
  {
   "cell_type": "code",
   "execution_count": 7,
   "id": "367b5a26",
   "metadata": {},
   "outputs": [],
   "source": [
    "trainset = datasets.FashionMNIST(root='./data', train=True, download=True, transform=transform_train)\n",
    "\n",
    "train_indices, val_indices = train_test_split(np.arange(len(trainset)), test_size=0.2)\n",
    "\n",
    "train_sampler = SubsetRandomSampler(train_indices)\n",
    "valid_sampler = SubsetRandomSampler(val_indices)\n",
    "\n",
    "trainloader = DataLoader(\n",
    "    trainset,\n",
    "    batch_size=batch_size,\n",
    "    num_workers=2,\n",
    "    sampler=train_sampler\n",
    ")\n",
    "\n",
    "val_loader = DataLoader(\n",
    "    trainset,\n",
    "    batch_size=batch_size,\n",
    "    num_workers=2,\n",
    "    sampler=valid_sampler\n",
    ")\n",
    "\n",
    "testset = datasets.FashionMNIST(\n",
    "    root='./data', train=False, download=True, transform=transform_test)\n",
    "testloader = torch.utils.data.DataLoader(\n",
    "    testset, batch_size=batch_size, shuffle=False, num_workers=2)"
   ]
  },
  {
   "cell_type": "code",
   "execution_count": 8,
   "id": "5e2dcc1a",
   "metadata": {},
   "outputs": [],
   "source": [
    "train_size = len(train_sampler)\n",
    "val_size = len(valid_sampler)"
   ]
  },
  {
   "cell_type": "code",
   "execution_count": 9,
   "id": "a471ea74",
   "metadata": {},
   "outputs": [
    {
     "name": "stdout",
     "output_type": "stream",
     "text": [
      "length trainset : 60000, testset : 10000\n"
     ]
    }
   ],
   "source": [
    "print('length trainset : {}, testset : {}'.format(len(trainset), len(testset)))"
   ]
  },
  {
   "cell_type": "code",
   "execution_count": 10,
   "id": "4912fe9f",
   "metadata": {},
   "outputs": [],
   "source": [
    "classes = ('t-shirt', 'trouser', 'pullover', 'dress', 'coat', 'sandal', 'shirt', 'sneaker', 'bag', 'ankle boot')"
   ]
  },
  {
   "cell_type": "markdown",
   "id": "54bc25a7",
   "metadata": {},
   "source": [
    "### show images"
   ]
  },
  {
   "cell_type": "code",
   "execution_count": 11,
   "id": "95db17fb",
   "metadata": {},
   "outputs": [
    {
     "data": {
      "image/png": "[encoded data removed]",
      "text/plain": [
       "<Figure size 432x288 with 1 Axes>"
      ]
     },
     "metadata": {
      "needs_background": "light"
     },
     "output_type": "display_data"
    },
    {
     "name": "stdout",
     "output_type": "stream",
     "text": [
      "ankle boot   pullover    trouser\n"
     ]
    }
   ],
   "source": [
    "import matplotlib.pyplot as plt\n",
    "\n",
    "# functions to show an image\n",
    "\n",
    "def imshow(img):\n",
    "    #img = img / 2 + 0.5     # unnormalize\n",
    "    npimg = img.numpy()\n",
    "    plt.imshow(np.transpose(npimg, (1, 2, 0)))\n",
    "    plt.show()\n",
    "\n",
    "\n",
    "# get some random training images\n",
    "dataiter = iter(testloader)\n",
    "images, labels = dataiter.next()\n",
    "\n",
    "# show images\n",
    "imshow(torchvision.utils.make_grid(images[:3]))\n",
    "# print labels\n",
    "print(' '.join('%10s' % classes[labels[j]] for j in range(3)))"
   ]
  },
  {
   "cell_type": "markdown",
   "id": "c62a79d5",
   "metadata": {},
   "source": [
    "### Train"
   ]
  },
  {
   "cell_type": "code",
   "execution_count": 21,
   "id": "ff70315b",
   "metadata": {},
   "outputs": [],
   "source": [
    "# model = CNN()\n",
    "model = Model_A()"
   ]
  },
  {
   "cell_type": "code",
   "execution_count": 22,
   "id": "df27697c",
   "metadata": {},
   "outputs": [],
   "source": [
    "criterion = nn.CrossEntropyLoss()\n",
    "# optimizer = optim.SGD(model.parameters(), lr=0.001, momentum=0.9)\n",
    "optimizer = optim.Adam(model.parameters(), lr=1e-3)"
   ]
  },
  {
   "cell_type": "code",
   "execution_count": 23,
   "id": "8c5bffe8",
   "metadata": {},
   "outputs": [],
   "source": [
    "device = torch.device(\"cuda:0\" if torch.cuda.is_available() else \"cpu\")"
   ]
  },
  {
   "cell_type": "code",
   "execution_count": 24,
   "id": "7695430e",
   "metadata": {},
   "outputs": [
    {
     "name": "stdout",
     "output_type": "stream",
     "text": [
      "----------------------------------------------------------------\n",
      "        Layer (type)               Output Shape         Param #\n",
      "================================================================\n",
      "            Conv2d-1           [-1, 64, 28, 28]           1,664\n",
      "              ReLU-2           [-1, 64, 28, 28]               0\n",
      "            Conv2d-3           [-1, 64, 12, 12]         102,464\n",
      "              ReLU-4           [-1, 64, 12, 12]               0\n",
      "           Dropout-5           [-1, 64, 12, 12]               0\n",
      "            Linear-6                  [-1, 128]       1,179,776\n",
      "              ReLU-7                  [-1, 128]               0\n",
      "           Dropout-8                  [-1, 128]               0\n",
      "            Linear-9                   [-1, 10]           1,290\n",
      "          Softmax-10                   [-1, 10]               0\n",
      "================================================================\n",
      "Total params: 1,285,194\n",
      "Trainable params: 1,285,194\n",
      "Non-trainable params: 0\n",
      "----------------------------------------------------------------\n",
      "Input size (MB): 0.00\n",
      "Forward/backward pass size (MB): 0.98\n",
      "Params size (MB): 4.90\n",
      "Estimated Total Size (MB): 5.89\n",
      "----------------------------------------------------------------\n"
     ]
    }
   ],
   "source": [
    "summary(model, input_size = (1,28,28), device = 'cpu')"
   ]
  },
  {
   "cell_type": "code",
   "execution_count": 25,
   "id": "fc5a3fbe",
   "metadata": {},
   "outputs": [],
   "source": [
    "model = model.to(device)"
   ]
  },
  {
   "cell_type": "code",
   "execution_count": 55,
   "id": "96cdf0e2",
   "metadata": {},
   "outputs": [
    {
     "data": {
      "text/plain": [
       "<All keys matched successfully>"
      ]
     },
     "execution_count": 55,
     "metadata": {},
     "output_type": "execute_result"
    }
   ],
   "source": [
    "# model.load_state_dict(torch.load('./checkpoints/F_mnist_model_D.pth'))"
   ]
  },
  {
   "cell_type": "code",
   "execution_count": 26,
   "id": "66ee3996",
   "metadata": {},
   "outputs": [],
   "source": [
    "model_folder = os.path.abspath('./checkpoints')\n",
    "if not os.path.exists(model_folder):\n",
    "    os.mkdir(model_folder)\n",
    "# model_path = os.path.join(model_folder, 'mnist_model_D.pth')\n",
    "# model_path = os.path.join(model_folder, 'F_mnist_model_A.pth')"
   ]
  },
  {
   "cell_type": "code",
   "execution_count": 27,
   "id": "e5296e7a",
   "metadata": {},
   "outputs": [],
   "source": [
    "import torchattacks"
   ]
  },
  {
   "cell_type": "code",
   "execution_count": 28,
   "id": "418528cf",
   "metadata": {},
   "outputs": [],
   "source": [
    "test_epoch =[10,30,50,70,90]"
   ]
  },
  {
   "cell_type": "code",
   "execution_count": 29,
   "id": "f88a3d22",
   "metadata": {},
   "outputs": [
    {
     "name": "stdout",
     "output_type": "stream",
     "text": [
      "train Loss: 0.0135 Acc: 0.7389\n",
      "Finished epoch 1, starting evaluation\n",
      "Validation Loss: 0.0130 Acc: 0.8045\n",
      "train Loss: 0.0130 Acc: 0.8013\n",
      "Finished epoch 2, starting evaluation\n",
      "Validation Loss: 0.0129 Acc: 0.8183\n",
      "train Loss: 0.0129 Acc: 0.8109\n",
      "Finished epoch 3, starting evaluation\n",
      "Validation Loss: 0.0128 Acc: 0.8302\n",
      "train Loss: 0.0128 Acc: 0.8201\n",
      "Finished epoch 4, starting evaluation\n",
      "Validation Loss: 0.0127 Acc: 0.8336\n",
      "train Loss: 0.0128 Acc: 0.8256\n",
      "Finished epoch 5, starting evaluation\n",
      "Validation Loss: 0.0127 Acc: 0.8357\n",
      "train Loss: 0.0126 Acc: 0.8515\n",
      "Finished epoch 6, starting evaluation\n",
      "Validation Loss: 0.0124 Acc: 0.8766\n",
      "train Loss: 0.0125 Acc: 0.8666\n",
      "Finished epoch 7, starting evaluation\n",
      "Validation Loss: 0.0124 Acc: 0.8823\n",
      "train Loss: 0.0124 Acc: 0.8741\n",
      "Finished epoch 8, starting evaluation\n",
      "Validation Loss: 0.0124 Acc: 0.8832\n",
      "train Loss: 0.0123 Acc: 0.8825\n",
      "Finished epoch 9, starting evaluation\n",
      "Validation Loss: 0.0123 Acc: 0.8896\n",
      "train Loss: 0.0123 Acc: 0.8862\n",
      "Finished epoch 10, starting evaluation\n",
      "Validation Loss: 0.0123 Acc: 0.8914\n",
      "EPOCH 10 FGSM Acc: 0.0684\n",
      "train Loss: 0.0123 Acc: 0.8881\n",
      "Finished epoch 11, starting evaluation\n",
      "Validation Loss: 0.0123 Acc: 0.8899\n",
      "train Loss: 0.0123 Acc: 0.8926\n",
      "Finished epoch 12, starting evaluation\n",
      "Validation Loss: 0.0123 Acc: 0.8942\n",
      "train Loss: 0.0122 Acc: 0.8933\n",
      "Finished epoch 13, starting evaluation\n",
      "Validation Loss: 0.0123 Acc: 0.8940\n",
      "train Loss: 0.0122 Acc: 0.8963\n",
      "Finished epoch 14, starting evaluation\n",
      "Validation Loss: 0.0122 Acc: 0.8999\n",
      "train Loss: 0.0122 Acc: 0.8992\n",
      "Finished epoch 15, starting evaluation\n",
      "Validation Loss: 0.0123 Acc: 0.8953\n",
      "train Loss: 0.0122 Acc: 0.8983\n",
      "Finished epoch 16, starting evaluation\n",
      "Validation Loss: 0.0123 Acc: 0.8904\n",
      "train Loss: 0.0122 Acc: 0.9009\n",
      "Finished epoch 17, starting evaluation\n",
      "Validation Loss: 0.0122 Acc: 0.9000\n",
      "train Loss: 0.0122 Acc: 0.9030\n",
      "Finished epoch 18, starting evaluation\n",
      "Validation Loss: 0.0122 Acc: 0.9002\n",
      "train Loss: 0.0122 Acc: 0.9021\n",
      "Finished epoch 19, starting evaluation\n",
      "Validation Loss: 0.0122 Acc: 0.9020\n",
      "train Loss: 0.0122 Acc: 0.9043\n",
      "Finished epoch 20, starting evaluation\n",
      "Validation Loss: 0.0122 Acc: 0.9017\n",
      "train Loss: 0.0122 Acc: 0.9054\n",
      "Finished epoch 21, starting evaluation\n",
      "Validation Loss: 0.0122 Acc: 0.9005\n",
      "train Loss: 0.0122 Acc: 0.9053\n",
      "Finished epoch 22, starting evaluation\n",
      "Validation Loss: 0.0122 Acc: 0.9022\n",
      "train Loss: 0.0121 Acc: 0.9083\n",
      "Finished epoch 23, starting evaluation\n",
      "Validation Loss: 0.0122 Acc: 0.9038\n",
      "train Loss: 0.0121 Acc: 0.9093\n",
      "Finished epoch 24, starting evaluation\n",
      "Validation Loss: 0.0122 Acc: 0.9042\n",
      "train Loss: 0.0121 Acc: 0.9109\n",
      "Finished epoch 25, starting evaluation\n",
      "Validation Loss: 0.0122 Acc: 0.9000\n",
      "train Loss: 0.0121 Acc: 0.9137\n",
      "Finished epoch 26, starting evaluation\n",
      "Validation Loss: 0.0122 Acc: 0.9058\n",
      "train Loss: 0.0121 Acc: 0.9128\n",
      "Finished epoch 27, starting evaluation\n",
      "Validation Loss: 0.0122 Acc: 0.9031\n",
      "train Loss: 0.0121 Acc: 0.9150\n",
      "Finished epoch 28, starting evaluation\n",
      "Validation Loss: 0.0121 Acc: 0.9099\n",
      "train Loss: 0.0121 Acc: 0.9158\n",
      "Finished epoch 29, starting evaluation\n",
      "Validation Loss: 0.0122 Acc: 0.9057\n",
      "train Loss: 0.0121 Acc: 0.9143\n",
      "Finished epoch 30, starting evaluation\n",
      "Validation Loss: 0.0122 Acc: 0.9059\n",
      "EPOCH 30 FGSM Acc: 0.3179\n",
      "train Loss: 0.0121 Acc: 0.9178\n",
      "Finished epoch 31, starting evaluation\n",
      "Validation Loss: 0.0121 Acc: 0.9096\n",
      "train Loss: 0.0121 Acc: 0.9172\n",
      "Finished epoch 32, starting evaluation\n",
      "Validation Loss: 0.0122 Acc: 0.9076\n",
      "train Loss: 0.0121 Acc: 0.9177\n",
      "Finished epoch 33, starting evaluation\n",
      "Validation Loss: 0.0122 Acc: 0.9024\n",
      "train Loss: 0.0120 Acc: 0.9207\n",
      "Finished epoch 34, starting evaluation\n",
      "Validation Loss: 0.0122 Acc: 0.9094\n",
      "train Loss: 0.0120 Acc: 0.9219\n",
      "Finished epoch 35, starting evaluation\n",
      "Validation Loss: 0.0122 Acc: 0.9065\n",
      "train Loss: 0.0120 Acc: 0.9199\n",
      "Finished epoch 36, starting evaluation\n",
      "Validation Loss: 0.0121 Acc: 0.9103\n",
      "train Loss: 0.0120 Acc: 0.9214\n",
      "Finished epoch 37, starting evaluation\n",
      "Validation Loss: 0.0121 Acc: 0.9100\n",
      "train Loss: 0.0120 Acc: 0.9230\n",
      "Finished epoch 38, starting evaluation\n",
      "Validation Loss: 0.0122 Acc: 0.9060\n",
      "train Loss: 0.0120 Acc: 0.9232\n",
      "Finished epoch 39, starting evaluation\n",
      "Validation Loss: 0.0121 Acc: 0.9125\n",
      "train Loss: 0.0120 Acc: 0.9241\n",
      "Finished epoch 40, starting evaluation\n",
      "Validation Loss: 0.0122 Acc: 0.9061\n",
      "train Loss: 0.0120 Acc: 0.9228\n",
      "Finished epoch 41, starting evaluation\n",
      "Validation Loss: 0.0121 Acc: 0.9094\n",
      "train Loss: 0.0120 Acc: 0.9248\n",
      "Finished epoch 42, starting evaluation\n",
      "Validation Loss: 0.0122 Acc: 0.9083\n",
      "train Loss: 0.0120 Acc: 0.9253\n",
      "Finished epoch 43, starting evaluation\n",
      "Validation Loss: 0.0121 Acc: 0.9106\n",
      "train Loss: 0.0120 Acc: 0.9242\n",
      "Finished epoch 44, starting evaluation\n",
      "Validation Loss: 0.0122 Acc: 0.9096\n",
      "train Loss: 0.0120 Acc: 0.9260\n",
      "Finished epoch 45, starting evaluation\n",
      "Validation Loss: 0.0121 Acc: 0.9139\n",
      "train Loss: 0.0120 Acc: 0.9260\n",
      "Finished epoch 46, starting evaluation\n",
      "Validation Loss: 0.0121 Acc: 0.9129\n",
      "train Loss: 0.0120 Acc: 0.9277\n",
      "Finished epoch 47, starting evaluation\n",
      "Validation Loss: 0.0121 Acc: 0.9135\n",
      "train Loss: 0.0120 Acc: 0.9238\n",
      "Finished epoch 48, starting evaluation\n",
      "Validation Loss: 0.0121 Acc: 0.9107\n",
      "train Loss: 0.0120 Acc: 0.9262\n",
      "Finished epoch 49, starting evaluation\n",
      "Validation Loss: 0.0122 Acc: 0.9078\n",
      "train Loss: 0.0120 Acc: 0.9236\n",
      "Finished epoch 50, starting evaluation\n",
      "Validation Loss: 0.0121 Acc: 0.9119\n",
      "EPOCH 50 FGSM Acc: 0.5649\n",
      "train Loss: 0.0120 Acc: 0.9259\n",
      "Finished epoch 51, starting evaluation\n",
      "Validation Loss: 0.0121 Acc: 0.9133\n",
      "train Loss: 0.0120 Acc: 0.9284\n",
      "Finished epoch 52, starting evaluation\n",
      "Validation Loss: 0.0121 Acc: 0.9118\n",
      "train Loss: 0.0120 Acc: 0.9287\n",
      "Finished epoch 53, starting evaluation\n",
      "Validation Loss: 0.0121 Acc: 0.9122\n",
      "train Loss: 0.0120 Acc: 0.9295\n",
      "Finished epoch 54, starting evaluation\n",
      "Validation Loss: 0.0121 Acc: 0.9133\n",
      "train Loss: 0.0120 Acc: 0.9306\n",
      "Finished epoch 55, starting evaluation\n",
      "Validation Loss: 0.0121 Acc: 0.9108\n",
      "train Loss: 0.0120 Acc: 0.9286\n",
      "Finished epoch 56, starting evaluation\n",
      "Validation Loss: 0.0121 Acc: 0.9106\n",
      "train Loss: 0.0120 Acc: 0.9284\n",
      "Finished epoch 57, starting evaluation\n",
      "Validation Loss: 0.0121 Acc: 0.9139\n",
      "train Loss: 0.0120 Acc: 0.9299\n",
      "Finished epoch 58, starting evaluation\n",
      "Validation Loss: 0.0121 Acc: 0.9126\n",
      "train Loss: 0.0120 Acc: 0.9276\n",
      "Finished epoch 59, starting evaluation\n",
      "Validation Loss: 0.0121 Acc: 0.9127\n",
      "train Loss: 0.0120 Acc: 0.9299\n",
      "Finished epoch 60, starting evaluation\n",
      "Validation Loss: 0.0121 Acc: 0.9107\n",
      "train Loss: 0.0120 Acc: 0.9304\n",
      "Finished epoch 61, starting evaluation\n",
      "Validation Loss: 0.0121 Acc: 0.9137\n",
      "train Loss: 0.0120 Acc: 0.9309\n",
      "Finished epoch 62, starting evaluation\n",
      "Validation Loss: 0.0121 Acc: 0.9125\n",
      "train Loss: 0.0120 Acc: 0.9314\n",
      "Finished epoch 63, starting evaluation\n",
      "Validation Loss: 0.0122 Acc: 0.9072\n",
      "train Loss: 0.0120 Acc: 0.9308\n",
      "Finished epoch 64, starting evaluation\n",
      "Validation Loss: 0.0121 Acc: 0.9098\n",
      "train Loss: 0.0120 Acc: 0.9300\n",
      "Finished epoch 65, starting evaluation\n",
      "Validation Loss: 0.0121 Acc: 0.9108\n",
      "train Loss: 0.0119 Acc: 0.9326\n",
      "Finished epoch 66, starting evaluation\n",
      "Validation Loss: 0.0121 Acc: 0.9136\n",
      "train Loss: 0.0119 Acc: 0.9325\n",
      "Finished epoch 67, starting evaluation\n",
      "Validation Loss: 0.0121 Acc: 0.9138\n",
      "train Loss: 0.0120 Acc: 0.9303\n",
      "Finished epoch 68, starting evaluation\n",
      "Validation Loss: 0.0121 Acc: 0.9109\n",
      "train Loss: 0.0119 Acc: 0.9319\n",
      "Finished epoch 69, starting evaluation\n",
      "Validation Loss: 0.0122 Acc: 0.9087\n",
      "train Loss: 0.0119 Acc: 0.9319\n",
      "Finished epoch 70, starting evaluation\n",
      "Validation Loss: 0.0121 Acc: 0.9138\n",
      "EPOCH 70 FGSM Acc: 0.6727\n",
      "train Loss: 0.0119 Acc: 0.9319\n",
      "Finished epoch 71, starting evaluation\n",
      "Validation Loss: 0.0122 Acc: 0.9088\n",
      "train Loss: 0.0120 Acc: 0.9306\n",
      "Finished epoch 72, starting evaluation\n",
      "Validation Loss: 0.0121 Acc: 0.9133\n",
      "train Loss: 0.0120 Acc: 0.9310\n",
      "Finished epoch 73, starting evaluation\n",
      "Validation Loss: 0.0121 Acc: 0.9126\n",
      "train Loss: 0.0119 Acc: 0.9324\n",
      "Finished epoch 74, starting evaluation\n",
      "Validation Loss: 0.0121 Acc: 0.9117\n",
      "train Loss: 0.0120 Acc: 0.9294\n",
      "Finished epoch 75, starting evaluation\n",
      "Validation Loss: 0.0121 Acc: 0.9116\n",
      "train Loss: 0.0119 Acc: 0.9331\n",
      "Finished epoch 76, starting evaluation\n",
      "Validation Loss: 0.0121 Acc: 0.9133\n",
      "train Loss: 0.0119 Acc: 0.9335\n",
      "Finished epoch 77, starting evaluation\n"
     ]
    },
    {
     "name": "stdout",
     "output_type": "stream",
     "text": [
      "Validation Loss: 0.0121 Acc: 0.9145\n",
      "train Loss: 0.0119 Acc: 0.9344\n",
      "Finished epoch 78, starting evaluation\n",
      "Validation Loss: 0.0121 Acc: 0.9137\n",
      "train Loss: 0.0119 Acc: 0.9323\n",
      "Finished epoch 79, starting evaluation\n",
      "Validation Loss: 0.0121 Acc: 0.9112\n",
      "train Loss: 0.0119 Acc: 0.9337\n",
      "Finished epoch 80, starting evaluation\n",
      "Validation Loss: 0.0121 Acc: 0.9143\n",
      "train Loss: 0.0119 Acc: 0.9337\n",
      "Finished epoch 81, starting evaluation\n",
      "Validation Loss: 0.0121 Acc: 0.9164\n",
      "train Loss: 0.0120 Acc: 0.9309\n",
      "Finished epoch 82, starting evaluation\n",
      "Validation Loss: 0.0121 Acc: 0.9152\n",
      "train Loss: 0.0120 Acc: 0.9313\n",
      "Finished epoch 83, starting evaluation\n",
      "Validation Loss: 0.0121 Acc: 0.9129\n",
      "train Loss: 0.0119 Acc: 0.9333\n",
      "Finished epoch 84, starting evaluation\n",
      "Validation Loss: 0.0121 Acc: 0.9140\n",
      "train Loss: 0.0119 Acc: 0.9329\n",
      "Finished epoch 85, starting evaluation\n",
      "Validation Loss: 0.0121 Acc: 0.9150\n",
      "train Loss: 0.0119 Acc: 0.9330\n",
      "Finished epoch 86, starting evaluation\n",
      "Validation Loss: 0.0122 Acc: 0.9087\n",
      "train Loss: 0.0119 Acc: 0.9323\n",
      "Finished epoch 87, starting evaluation\n",
      "Validation Loss: 0.0121 Acc: 0.9173\n",
      "train Loss: 0.0119 Acc: 0.9330\n",
      "Finished epoch 88, starting evaluation\n",
      "Validation Loss: 0.0121 Acc: 0.9125\n",
      "train Loss: 0.0119 Acc: 0.9329\n",
      "Finished epoch 89, starting evaluation\n",
      "Validation Loss: 0.0121 Acc: 0.9147\n",
      "train Loss: 0.0119 Acc: 0.9345\n",
      "Finished epoch 90, starting evaluation\n",
      "Validation Loss: 0.0121 Acc: 0.9111\n",
      "EPOCH 90 FGSM Acc: 0.7624\n",
      "train Loss: 0.0120 Acc: 0.9290\n",
      "Finished epoch 91, starting evaluation\n",
      "Validation Loss: 0.0121 Acc: 0.9102\n",
      "train Loss: 0.0119 Acc: 0.9319\n",
      "Finished epoch 92, starting evaluation\n",
      "Validation Loss: 0.0121 Acc: 0.9121\n",
      "train Loss: 0.0120 Acc: 0.9312\n",
      "Finished epoch 93, starting evaluation\n",
      "Validation Loss: 0.0121 Acc: 0.9131\n",
      "train Loss: 0.0119 Acc: 0.9320\n",
      "Finished epoch 94, starting evaluation\n",
      "Validation Loss: 0.0121 Acc: 0.9103\n",
      "train Loss: 0.0119 Acc: 0.9355\n",
      "Finished epoch 95, starting evaluation\n",
      "Validation Loss: 0.0121 Acc: 0.9125\n",
      "train Loss: 0.0119 Acc: 0.9328\n",
      "Finished epoch 96, starting evaluation\n",
      "Validation Loss: 0.0121 Acc: 0.9104\n",
      "train Loss: 0.0120 Acc: 0.9312\n",
      "Finished epoch 97, starting evaluation\n",
      "Validation Loss: 0.0121 Acc: 0.9122\n",
      "train Loss: 0.0119 Acc: 0.9334\n",
      "Finished epoch 98, starting evaluation\n",
      "Validation Loss: 0.0121 Acc: 0.9138\n",
      "train Loss: 0.0119 Acc: 0.9333\n",
      "Finished epoch 99, starting evaluation\n",
      "Validation Loss: 0.0121 Acc: 0.9123\n",
      "train Loss: 0.0119 Acc: 0.9332\n",
      "Finished epoch 100, starting evaluation\n",
      "Validation Loss: 0.0121 Acc: 0.9151\n",
      "==> Finished Training ...\n"
     ]
    }
   ],
   "source": [
    "model.train()  # Set model to training mode\n",
    "\n",
    "train_loss = []\n",
    "train_acc = []\n",
    "val_loss = []\n",
    "val_acc = []\n",
    "\n",
    "best_acc = 0.0\n",
    "\n",
    "for epoch in range(total_epoch):\n",
    "    \n",
    "    model.train()# Set model to training mode\n",
    "    \n",
    "    running_loss = 0.0\n",
    "    running_corrects = 0.0\n",
    "    epoch_size = 0.0\n",
    "    \n",
    "    for batch_idx, (inputs, labels) in enumerate(trainloader):\n",
    "        \n",
    "        inputs = inputs.to(device)\n",
    "        labels = labels.to(device)\n",
    "        \n",
    "\n",
    "        # zero the parameter gradients\n",
    "        optimizer.zero_grad()\n",
    "\n",
    "        # forward + backward + optimize\n",
    "        outputs = model(inputs)\n",
    "#         print(outputs.shape)\n",
    "        loss = criterion(outputs, labels)\n",
    "        loss.backward()\n",
    "        \n",
    "        _, preds = torch.max(outputs, 1)\n",
    "\n",
    "        optimizer.step()\n",
    "\n",
    "        # print statistics\n",
    "        # statistics\n",
    "        running_loss += loss.item()\n",
    "        running_corrects += torch.sum(preds == labels.data)\n",
    "        \n",
    "        epoch_size += inputs.size(0)\n",
    "        \n",
    "    # Normalizing the loss by the total number of train batches\n",
    "    \n",
    "    running_loss /= epoch_size\n",
    "    running_corrects =  running_corrects.double() / epoch_size\n",
    "    \n",
    "    train_loss.append(running_loss)\n",
    "    train_acc.append(running_corrects)\n",
    "    \n",
    "    print('train Loss: {:.4f} Acc: {:.4f}'.format(running_loss, running_corrects))\n",
    "    \n",
    "    # evalute\n",
    "    print('Finished epoch {}, starting evaluation'.format(epoch+1))\n",
    "\n",
    "    model.eval()   # Set model to evaluate mode\n",
    "    \n",
    "    running_loss = 0.0\n",
    "    running_corrects = 0.0\n",
    "    epoch_size = 0.0\n",
    "    \n",
    "    \n",
    "    with torch.no_grad():\n",
    "        for batch_idx, (inputs, labels) in enumerate(val_loader):\n",
    "            \n",
    "            inputs = inputs.to(device)\n",
    "            labels = labels.to(device)\n",
    "            \n",
    "            outputs = model(inputs)\n",
    "            loss = criterion(outputs, labels)\n",
    "\n",
    "            _, preds = torch.max(outputs, 1)\n",
    "\n",
    "            # statistics\n",
    "            running_loss += loss.item()\n",
    "            running_corrects += torch.sum(preds == labels.data)\n",
    "            \n",
    "            epoch_size += inputs.size(0)\n",
    "    \n",
    "    running_loss /= epoch_size\n",
    "    running_corrects =  running_corrects.double() / epoch_size\n",
    "    \n",
    "    print('Validation Loss: {:.4f} Acc: {:.4f}'.format(running_loss, running_corrects))\n",
    "    \n",
    "    val_loss.append(running_loss)\n",
    "    val_acc.append(running_corrects)\n",
    "    \n",
    "    # deep copy the model\n",
    "#     if running_corrects > best_acc:\n",
    "#         print(\"saving best model val_acc : {:.4f}\".format(running_corrects))\n",
    "#         best_acc = running_corrects\n",
    "        \n",
    "#         model_copy = copy.deepcopy(model)\n",
    "#         model_copy = model_copy.cpu()\n",
    "        \n",
    "#         model_state_dict = model_copy.state_dict()\n",
    "#         torch.save(model_state_dict, model_path)\n",
    "\n",
    "#         del model_copy\n",
    "    \n",
    "    running_corrects = 0.0\n",
    "    epoch_size = 0.0\n",
    "    \n",
    "    if (epoch+1) in test_epoch:\n",
    "        attack = torchattacks.FGSM(model, eps=0.3)\n",
    "        for batch_idx, (inputs, labels) in enumerate(testloader):\n",
    "            inputs = inputs.to(device)\n",
    "            labels = labels.to(device)\n",
    "            \n",
    "            adv_image = attack(inputs, labels)\n",
    "            \n",
    "            outputs = model(adv_image)\n",
    "            _, preds = torch.max(outputs, 1)\n",
    "\n",
    "            # statistics\n",
    "            running_corrects += torch.sum(preds == labels.data)\n",
    "            \n",
    "            epoch_size += inputs.size(0)\n",
    "    \n",
    "        running_corrects =  running_corrects.double() / epoch_size\n",
    "        print('EPOCH {} FGSM Acc: {:.4f}'.format(epoch+1, running_corrects))\n",
    "\n",
    "print('==> Finished Training ...')"
   ]
  },
  {
   "cell_type": "code",
   "execution_count": 30,
   "id": "687d3bfb",
   "metadata": {},
   "outputs": [
    {
     "data": {
      "image/png": "[encoded data removed]",
      "text/plain": [
       "<Figure size 432x288 with 1 Axes>"
      ]
     },
     "metadata": {
      "needs_background": "light"
     },
     "output_type": "display_data"
    }
   ],
   "source": [
    "hist = [h for h in val_loss]\n",
    "hist2 = [h for h in train_loss]\n",
    "\n",
    "plt.title(\"train vs Validation loss\")\n",
    "plt.xlabel(\"Training Epochs\")\n",
    "plt.ylabel(\"Loss\")\n",
    "plt.plot(range(1,len(val_loss)+1),hist,label=\"Validation\")\n",
    "plt.plot(range(1,len(train_loss)+1),hist2,label=\"Train\")\n",
    "plt.ylim((0,0.08))\n",
    "plt.xticks(np.arange(1, len(train_loss)+1, 2))\n",
    "plt.legend()\n",
    "plt.show()"
   ]
  },
  {
   "cell_type": "code",
   "execution_count": 31,
   "id": "fd396193",
   "metadata": {},
   "outputs": [
    {
     "data": {
      "image/png": "[encoded data removed]",
      "text/plain": [
       "<Figure size 432x288 with 1 Axes>"
      ]
     },
     "metadata": {
      "needs_background": "light"
     },
     "output_type": "display_data"
    }
   ],
   "source": [
    "hist = [h.cpu() for h in val_acc]\n",
    "hist2 = [h.cpu() for h in train_acc]\n",
    "\n",
    "plt.title(\"train vs Validation accuracy\")\n",
    "plt.xlabel(\"Training Epochs\")\n",
    "plt.ylabel(\"Accuracy\")\n",
    "plt.plot(range(1,len(val_acc)+1),hist,label=\"Validation\")\n",
    "plt.plot(range(1,len(train_acc)+1),hist2,label=\"Train\")\n",
    "plt.ylim((0,1.0))\n",
    "plt.xticks(np.arange(1, len(train_acc)+1, 2))\n",
    "plt.legend()\n",
    "plt.show()"
   ]
  },
  {
   "cell_type": "code",
   "execution_count": null,
   "id": "581ba9ea",
   "metadata": {},
   "outputs": [],
   "source": []
  }
 ],
 "metadata": {
  "kernelspec": {
   "display_name": "Python 3 (ipykernel)",
   "language": "python",
   "name": "python3"
  },
  "language_info": {
   "codemirror_mode": {
    "name": "ipython",
    "version": 3
   },
   "file_extension": ".py",
   "mimetype": "text/x-python",
   "name": "python",
   "nbconvert_exporter": "python",
   "pygments_lexer": "ipython3",
   "version": "3.8.12"
  }
 },
 "nbformat": 4,
 "nbformat_minor": 5
}
